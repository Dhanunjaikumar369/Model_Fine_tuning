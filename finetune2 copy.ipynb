{
 "cells": [
  {
   "cell_type": "code",
   "execution_count": 7,
   "id": "ff3f192b-44fb-4f40-b0f4-06e58563486c",
   "metadata": {},
   "outputs": [
    {
     "name": "stdout",
     "output_type": "stream",
     "text": [
      "ChatCompletionOutput(choices=[ChatCompletionOutputComplete(finish_reason='length', index=0, message=ChatCompletionOutputMessage(role='assistant', content='1. **\"Royal Enfield Classic 350: Unveiling Power & Timeless Design\"**\\n2. **\"Honda Activa 6G: The Indian Scooter Marque\\'s New Gear\"**\\n3. **\"Indian Two-Wheelers Top 5 - Budget to Beast\"**\\n4. **\"TVS Apache RTR 200 4V - A Closer Look at the Street Naked Bike\"**\\n5. **\"How Does the \\'New\\' Bajaj', tool_calls=None), logprobs=None)], created=1726141693, id='', model='mistralai/Mistral-Nemo-Instruct-2407', system_fingerprint='2.2.1-dev0-sha-a0b6a24', usage=ChatCompletionOutputUsage(completion_tokens=100, prompt_tokens=51, total_tokens=151))\n",
      "An error occurred: 'ChatCompletionOutput' object has no attribute 'message'\n"
     ]
    }
   ],
   "source": [
    "import os\n",
    "import json\n",
    "import hashlib\n",
    "from pathlib import Path\n",
    "from typing import List, Dict\n",
    "import pandas as pd\n",
    "import requests\n",
    "from dotenv import load_dotenv, find_dotenv\n",
    "from huggingface_hub import InferenceClient\n",
    "\n",
    "\n",
    "# Load environment variables\n",
    "load_dotenv(find_dotenv())\n",
    "\n",
    "os.environ['HUGGING_FACE_API_KEY'] = os.getenv(\"HUGGING_FACE_API_KEY\")\n",
    "os.environ['YOUTUBE_API_KEY'] = os.getenv(\"YOUTUBE_API_KEY\")\n",
    "\n",
    "# Hugging Face API setup\n",
    "client = InferenceClient(\n",
    "    model=\"mistralai/Mistral-Nemo-Instruct-2407\",\n",
    "    token=os.getenv(\"HUGGING_FACE_API_KEY\")\n",
    ")\n",
    "\n",
    "\n",
    "\n",
    "\n",
    "# Function to ask LLM to generate search titles\n",
    "def generate_response(prompt: str) -> List[str]:\n",
    "    try:\n",
    "        response = client.chat_completion(\n",
    "            messages=[{\"role\": \"user\", \"content\": prompt}],\n",
    "            max_tokens=100,\n",
    "            stream=False\n",
    "        )\n",
    "      \n",
    "        \n",
    "        print(response['choices'][0]['message']['content'])\n",
    "        return response['choices'][0]['message']['content']\n",
    "    except Exception as e:\n",
    "        print(f\"An error occurred: {e}\")\n",
    "        return []\n",
    "\n",
    "\n",
    "\n",
    "def main():\n",
    "    # Step 1: Ask the LLM to generate search titles\n",
    "    search_prompt = \"\"\"Generate search titles for YouTube videos related to Indian two-wheeler reviews, feedback, and launches.\n",
    "    eg: Indian Hero Karizma ZMr Review, Bajaj Pulsar Review India, Yamaha R15 launch, etc.\"\"\"\n",
    "    search_titles = generate_response(search_prompt)\n",
    "    \n",
    "   \n",
    "\n",
    "if __name__ == \"__main__\":\n",
    "    main()\n"
   ]
  },
  {
   "cell_type": "code",
   "execution_count": 2,
   "id": "23f691fd-e079-411e-8065-041e38bf8dfa",
   "metadata": {},
   "outputs": [
    {
     "data": {
      "application/vnd.jupyter.widget-view+json": {
       "model_id": "7d534693ee0b48808e9fc4546d7461c2",
       "version_major": 2,
       "version_minor": 0
      },
      "text/plain": [
       "Loading checkpoint shards:   0%|          | 0/2 [00:00<?, ?it/s]"
      ]
     },
     "metadata": {},
     "output_type": "display_data"
    }
   ],
   "source": []
  },
  {
   "cell_type": "code",
   "execution_count": null,
   "id": "631b1d0c-efaa-41b9-8507-a4b89f93c8b9",
   "metadata": {},
   "outputs": [],
   "source": []
  }
 ],
 "metadata": {
  "kernelspec": {
   "display_name": "Python 3 (ipykernel)",
   "language": "python",
   "name": "python3"
  },
  "language_info": {
   "codemirror_mode": {
    "name": "ipython",
    "version": 3
   },
   "file_extension": ".py",
   "mimetype": "text/x-python",
   "name": "python",
   "nbconvert_exporter": "python",
   "pygments_lexer": "ipython3",
   "version": "3.10.2"
  }
 },
 "nbformat": 4,
 "nbformat_minor": 5
}
